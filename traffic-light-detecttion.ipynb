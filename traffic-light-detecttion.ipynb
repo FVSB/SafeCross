{
 "cells": [
  {
   "cell_type": "markdown",
   "metadata": {},
   "source": [
    "# Implementación de modelo para la detección de luces en semáforos peatonales"
   ]
  },
  {
   "cell_type": "markdown",
   "metadata": {},
   "source": [
    "## Preparación de los archivos\n",
    "\n",
    "Se convierte las anotaciones de objetos desde un formato XML al formato de texto utilizado por YOLO."
   ]
  },
  {
   "cell_type": "code",
   "execution_count": null,
   "metadata": {},
   "outputs": [],
   "source": [
    "import os\n",
    "import xml.etree.ElementTree as ET\n",
    "\n",
    "def convert(size, box):\n",
    "    dw = 1. / size[0]\n",
    "    dh = 1. / size[1]\n",
    "    x = (box[0] + box[1]) / 2.0 - 1\n",
    "    y = (box[2] + box[3]) / 2.0 - 1\n",
    "    w = box[1] - box[0]\n",
    "    h = box[3] - box[2]\n",
    "    x = x * dw\n",
    "    w = w * dw\n",
    "    y = y * dh\n",
    "    h = h * dh\n",
    "    return (x, y, w, h)\n",
    "\n",
    "def convert_annotation(xml_file, output_dir, classes):\n",
    "    tree = ET.parse(xml_file)\n",
    "    root = tree.getroot()\n",
    "    size = root.find('size')\n",
    "    w = int(size.find('width').text)\n",
    "    h = int(size.find('height').text)\n",
    "\n",
    "    with open(os.path.join(output_dir, os.path.splitext(os.path.basename(xml_file))[0] + '.txt'), 'w') as out_file:\n",
    "        for obj in root.iter('object'):\n",
    "            cls = obj.find('name').text\n",
    "            if cls not in classes:\n",
    "                continue\n",
    "            cls_id = classes.index(cls)\n",
    "            xmlbox = obj.find('bndbox')\n",
    "            b = (float(xmlbox.find('xmin').text), float(xmlbox.find('xmax').text),\n",
    "                 float(xmlbox.find('ymin').text), float(xmlbox.find('ymax').text))\n",
    "            bb = convert((w, h), b)\n",
    "            out_file.write(f\"{cls_id} \" + \" \".join([str(a) for a in bb]) + '\\n')\n",
    "\n",
    "# Define the classes\n",
    "classes = [\"red light\", \"green light\"]\n",
    "\n",
    "# Paths\n",
    "current_path = os.getcwd()\n",
    "xml_dir = os.path.join(current_path,'dataset/annotations/xml')\n",
    "output_dir = os.path.join(current_path,'dataset/annotations/output')\n",
    "os.makedirs(output_dir, exist_ok=True)\n",
    "\n",
    "# Convert all XML files\n",
    "for xml_file in os.listdir(xml_dir):\n",
    "    if xml_file.endswith('.xml'):\n",
    "        convert_annotation(os.path.join(xml_dir, xml_file), output_dir, classes)"
   ]
  },
  {
   "cell_type": "markdown",
   "metadata": {},
   "source": [
    "## Entrenamiento\n",
    "\n",
    " Se realiza un proceso de fine-tuning de un modelo YOLOv8m pre-entrenado para adaptarlo a la tarea de detección de luces de semáforos peatonales. Utiliza un conjunto de datos personalizado definido en 'TrafficLight.yaml'. El modelo resultante, optimizado para la detección de semáforos, se guarda para su uso posterior."
   ]
  },
  {
   "cell_type": "code",
   "execution_count": null,
   "metadata": {},
   "outputs": [],
   "source": [
    "from ultralytics import YOLO\n",
    "from multiprocessing import freeze_support\n",
    "import os\n",
    "\n",
    "# Cargar el modelo pre-entrenado YOLOv8m\n",
    "model_path = os.path.join(os.path.dirname(__file__), 'yolov8m.pt')\n",
    "model = YOLO(model_path)\n",
    "current_path = os.getcwd()\n",
    "\n",
    "# Realizar fine-tuning\n",
    "if __name__ == '__main__':\n",
    "    freeze_support()\n",
    "    results = model.train(\n",
    "        data=os.path.join(current_path,'TrafficLight.yaml'),\n",
    "        epochs=80,\n",
    "        imgsz=640,\n",
    "        batch=16,\n",
    "        name='yolov8m_traffic_light',\n",
    "        patience=20,\n",
    "        device=0\n",
    "    )\n",
    "\n",
    "    # Guardar el modelo entrenado\n",
    "    model.save('yolov8m_TrafficLight.pt')"
   ]
  },
  {
   "cell_type": "markdown",
   "metadata": {},
   "source": [
    "## Testing"
   ]
  },
  {
   "cell_type": "code",
   "execution_count": null,
   "metadata": {},
   "outputs": [],
   "source": [
    "from ultralytics import YOLO\n",
    "import os\n",
    "\n",
    "path = os.path.join(os.path.dirname(__file__), 'best.pt')\n",
    "model=YOLO(path)\n",
    "\n",
    "results = model.predict(source='dataset/images/test/noche/',save = True, save_txt=True)"
   ]
  }
 ],
 "metadata": {
  "language_info": {
   "name": "python"
  }
 },
 "nbformat": 4,
 "nbformat_minor": 2
}
